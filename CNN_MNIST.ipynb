{
 "cells": [
  {
   "cell_type": "code",
   "execution_count": 1,
   "metadata": {
    "colab": {
     "base_uri": "https://localhost:8080/",
     "height": 1000
    },
    "colab_type": "code",
    "id": "H9EU0e8yzFOm",
    "outputId": "39e258ee-e3d8-44d1-ac8c-e89a1288f1a1"
   },
   "outputs": [
    {
     "name": "stderr",
     "output_type": "stream",
     "text": [
      "Using TensorFlow backend.\n"
     ]
    },
    {
     "data": {
      "text/html": [
       "<p style=\"color: red;\">\n",
       "The default version of TensorFlow in Colab will soon switch to TensorFlow 2.x.<br>\n",
       "We recommend you <a href=\"https://www.tensorflow.org/guide/migrate\" target=\"_blank\">upgrade</a> now \n",
       "or ensure your notebook will continue to use TensorFlow 1.x via the <code>%tensorflow_version 1.x</code> magic:\n",
       "<a href=\"https://colab.research.google.com/notebooks/tensorflow_version.ipynb\" target=\"_blank\">more info</a>.</p>\n"
      ],
      "text/plain": [
       "<IPython.core.display.HTML object>"
      ]
     },
     "metadata": {
      "tags": []
     },
     "output_type": "display_data"
    },
    {
     "name": "stdout",
     "output_type": "stream",
     "text": [
      "Downloading data from https://s3.amazonaws.com/img-datasets/mnist.npz\n",
      "11493376/11490434 [==============================] - 1s 0us/step\n",
      "x_train shape: (60000, 28, 28, 1)\n",
      "60000 train samples\n",
      "10000 test samples\n",
      "WARNING:tensorflow:From /usr/local/lib/python3.6/dist-packages/keras/backend/tensorflow_backend.py:66: The name tf.get_default_graph is deprecated. Please use tf.compat.v1.get_default_graph instead.\n",
      "\n",
      "WARNING:tensorflow:From /usr/local/lib/python3.6/dist-packages/keras/backend/tensorflow_backend.py:541: The name tf.placeholder is deprecated. Please use tf.compat.v1.placeholder instead.\n",
      "\n",
      "WARNING:tensorflow:From /usr/local/lib/python3.6/dist-packages/keras/backend/tensorflow_backend.py:4432: The name tf.random_uniform is deprecated. Please use tf.random.uniform instead.\n",
      "\n",
      "WARNING:tensorflow:From /usr/local/lib/python3.6/dist-packages/keras/backend/tensorflow_backend.py:4267: The name tf.nn.max_pool is deprecated. Please use tf.nn.max_pool2d instead.\n",
      "\n",
      "WARNING:tensorflow:From /usr/local/lib/python3.6/dist-packages/keras/backend/tensorflow_backend.py:148: The name tf.placeholder_with_default is deprecated. Please use tf.compat.v1.placeholder_with_default instead.\n",
      "\n",
      "WARNING:tensorflow:From /usr/local/lib/python3.6/dist-packages/keras/backend/tensorflow_backend.py:3733: calling dropout (from tensorflow.python.ops.nn_ops) with keep_prob is deprecated and will be removed in a future version.\n",
      "Instructions for updating:\n",
      "Please use `rate` instead of `keep_prob`. Rate should be set to `rate = 1 - keep_prob`.\n",
      "WARNING:tensorflow:From /usr/local/lib/python3.6/dist-packages/keras/optimizers.py:793: The name tf.train.Optimizer is deprecated. Please use tf.compat.v1.train.Optimizer instead.\n",
      "\n",
      "WARNING:tensorflow:From /usr/local/lib/python3.6/dist-packages/keras/backend/tensorflow_backend.py:3576: The name tf.log is deprecated. Please use tf.math.log instead.\n",
      "\n",
      "WARNING:tensorflow:From /usr/local/lib/python3.6/dist-packages/tensorflow_core/python/ops/math_grad.py:1424: where (from tensorflow.python.ops.array_ops) is deprecated and will be removed in a future version.\n",
      "Instructions for updating:\n",
      "Use tf.where in 2.0, which has the same broadcast rule as np.where\n",
      "WARNING:tensorflow:From /usr/local/lib/python3.6/dist-packages/keras/backend/tensorflow_backend.py:1033: The name tf.assign_add is deprecated. Please use tf.compat.v1.assign_add instead.\n",
      "\n",
      "WARNING:tensorflow:From /usr/local/lib/python3.6/dist-packages/keras/backend/tensorflow_backend.py:1020: The name tf.assign is deprecated. Please use tf.compat.v1.assign instead.\n",
      "\n",
      "WARNING:tensorflow:From /usr/local/lib/python3.6/dist-packages/keras/backend/tensorflow_backend.py:3005: The name tf.Session is deprecated. Please use tf.compat.v1.Session instead.\n",
      "\n",
      "Train on 60000 samples, validate on 10000 samples\n",
      "Epoch 1/12\n",
      "WARNING:tensorflow:From /usr/local/lib/python3.6/dist-packages/keras/backend/tensorflow_backend.py:190: The name tf.get_default_session is deprecated. Please use tf.compat.v1.get_default_session instead.\n",
      "\n",
      "WARNING:tensorflow:From /usr/local/lib/python3.6/dist-packages/keras/backend/tensorflow_backend.py:197: The name tf.ConfigProto is deprecated. Please use tf.compat.v1.ConfigProto instead.\n",
      "\n",
      "WARNING:tensorflow:From /usr/local/lib/python3.6/dist-packages/keras/backend/tensorflow_backend.py:207: The name tf.global_variables is deprecated. Please use tf.compat.v1.global_variables instead.\n",
      "\n",
      "WARNING:tensorflow:From /usr/local/lib/python3.6/dist-packages/keras/backend/tensorflow_backend.py:216: The name tf.is_variable_initialized is deprecated. Please use tf.compat.v1.is_variable_initialized instead.\n",
      "\n",
      "WARNING:tensorflow:From /usr/local/lib/python3.6/dist-packages/keras/backend/tensorflow_backend.py:223: The name tf.variables_initializer is deprecated. Please use tf.compat.v1.variables_initializer instead.\n",
      "\n",
      "60000/60000 [==============================] - 163s 3ms/step - loss: 0.2633 - acc: 0.9184 - val_loss: 0.0562 - val_acc: 0.9818\n",
      "Epoch 2/12\n",
      "60000/60000 [==============================] - 161s 3ms/step - loss: 0.0889 - acc: 0.9741 - val_loss: 0.0414 - val_acc: 0.9865\n",
      "Epoch 3/12\n",
      "60000/60000 [==============================] - 161s 3ms/step - loss: 0.0663 - acc: 0.9801 - val_loss: 0.0329 - val_acc: 0.9888\n",
      "Epoch 4/12\n",
      "60000/60000 [==============================] - 161s 3ms/step - loss: 0.0543 - acc: 0.9834 - val_loss: 0.0308 - val_acc: 0.9898\n",
      "Epoch 5/12\n",
      "60000/60000 [==============================] - 161s 3ms/step - loss: 0.0468 - acc: 0.9863 - val_loss: 0.0326 - val_acc: 0.9900\n",
      "Epoch 6/12\n",
      "60000/60000 [==============================] - 162s 3ms/step - loss: 0.0427 - acc: 0.9872 - val_loss: 0.0302 - val_acc: 0.9902\n",
      "Epoch 7/12\n",
      "60000/60000 [==============================] - 160s 3ms/step - loss: 0.0378 - acc: 0.9885 - val_loss: 0.0296 - val_acc: 0.9908\n",
      "Epoch 8/12\n",
      "60000/60000 [==============================] - 159s 3ms/step - loss: 0.0346 - acc: 0.9895 - val_loss: 0.0266 - val_acc: 0.9918\n",
      "Epoch 9/12\n",
      "60000/60000 [==============================] - 160s 3ms/step - loss: 0.0321 - acc: 0.9903 - val_loss: 0.0283 - val_acc: 0.9911\n",
      "Epoch 10/12\n",
      "60000/60000 [==============================] - 160s 3ms/step - loss: 0.0300 - acc: 0.9906 - val_loss: 0.0296 - val_acc: 0.9918\n",
      "Epoch 11/12\n",
      "60000/60000 [==============================] - 161s 3ms/step - loss: 0.0301 - acc: 0.9909 - val_loss: 0.0268 - val_acc: 0.9917\n",
      "Epoch 12/12\n",
      "60000/60000 [==============================] - 160s 3ms/step - loss: 0.0272 - acc: 0.9918 - val_loss: 0.0293 - val_acc: 0.9911\n",
      "Test loss: 0.0293178051541272\n",
      "Test accuracy: 0.9911\n"
     ]
    }
   ],
   "source": [
    "\n",
    "from __future__ import print_function\n",
    "import keras\n",
    "from keras.datasets import mnist\n",
    "from keras.models import Sequential\n",
    "from keras.layers import Dense, Dropout, Flatten\n",
    "from keras.layers import Conv2D, MaxPooling2D\n",
    "from keras import backend as K\n",
    "\n",
    "batch_size = 128\n",
    "num_classes = 10\n",
    "epochs = 12\n",
    "\n",
    "# input image dimensions\n",
    "img_rows, img_cols = 28, 28\n",
    "\n",
    "# the data, split between train and test sets\n",
    "(x_train, y_train), (x_test, y_test) = mnist.load_data()\n",
    "\n",
    "if K.image_data_format() == 'channels_first':\n",
    "    x_train = x_train.reshape(x_train.shape[0], 1, img_rows, img_cols)\n",
    "    x_test = x_test.reshape(x_test.shape[0], 1, img_rows, img_cols)\n",
    "    input_shape = (1, img_rows, img_cols)\n",
    "else:\n",
    "    x_train = x_train.reshape(x_train.shape[0], img_rows, img_cols, 1)\n",
    "    x_test = x_test.reshape(x_test.shape[0], img_rows, img_cols, 1)\n",
    "    input_shape = (img_rows, img_cols, 1)\n",
    "\n",
    "x_train = x_train.astype('float32')\n",
    "x_test = x_test.astype('float32')\n",
    "x_train /= 255\n",
    "x_test /= 255\n",
    "print('x_train shape:', x_train.shape)\n",
    "print(x_train.shape[0], 'train samples')\n",
    "print(x_test.shape[0], 'test samples')\n",
    "\n",
    "# convert class vectors to binary class matrices\n",
    "y_train = keras.utils.to_categorical(y_train, num_classes)\n",
    "y_test = keras.utils.to_categorical(y_test, num_classes)\n",
    "\n",
    "model = Sequential()\n",
    "model.add(Conv2D(32, kernel_size=(3, 3),\n",
    "                 activation='relu',\n",
    "                 input_shape=input_shape))\n",
    "model.add(Conv2D(64, (3, 3), activation='relu'))\n",
    "model.add(MaxPooling2D(pool_size=(2, 2)))\n",
    "model.add(Dropout(0.25))\n",
    "model.add(Flatten())\n",
    "model.add(Dense(128, activation='relu'))\n",
    "model.add(Dropout(0.5))\n",
    "model.add(Dense(num_classes, activation='softmax'))\n",
    "\n",
    "model.compile(loss=keras.losses.categorical_crossentropy,\n",
    "              optimizer=keras.optimizers.Adadelta(),\n",
    "              metrics=['accuracy'])\n",
    "\n",
    "model.fit(x_train, y_train,\n",
    "          batch_size=batch_size,\n",
    "          epochs=epochs,\n",
    "          verbose=1,\n",
    "          validation_data=(x_test, y_test))\n",
    "score = model.evaluate(x_test, y_test, verbose=0)\n",
    "print('Test loss:', score[0])\n",
    "print('Test accuracy:', score[1])"
   ]
  },
  {
   "cell_type": "markdown",
   "metadata": {
    "colab_type": "text",
    "id": "pyR2UotCRit7"
   },
   "source": [
    "**Building CNN with 3 Layers,Kernel_size=(2,2)**"
   ]
  },
  {
   "cell_type": "code",
   "execution_count": 23,
   "metadata": {
    "colab": {
     "base_uri": "https://localhost:8080/",
     "height": 476
    },
    "colab_type": "code",
    "id": "n1Ufi0ADRwih",
    "outputId": "7509588f-394f-4d93-8d28-7bcf96e172ac"
   },
   "outputs": [
    {
     "name": "stdout",
     "output_type": "stream",
     "text": [
      "Train on 60000 samples, validate on 10000 samples\n",
      "Epoch 1/12\n",
      "60000/60000 [==============================] - 233s 4ms/step - loss: 0.5178 - acc: 0.8349 - val_loss: 0.1022 - val_acc: 0.9716\n",
      "Epoch 2/12\n",
      "60000/60000 [==============================] - 232s 4ms/step - loss: 0.2315 - acc: 0.9271 - val_loss: 0.0741 - val_acc: 0.9800\n",
      "Epoch 3/12\n",
      "60000/60000 [==============================] - 234s 4ms/step - loss: 0.1806 - acc: 0.9439 - val_loss: 0.0645 - val_acc: 0.9819\n",
      "Epoch 4/12\n",
      "60000/60000 [==============================] - 236s 4ms/step - loss: 0.1506 - acc: 0.9535 - val_loss: 0.0755 - val_acc: 0.9801\n",
      "Epoch 5/12\n",
      "60000/60000 [==============================] - 234s 4ms/step - loss: 0.1349 - acc: 0.9589 - val_loss: 0.0659 - val_acc: 0.9814\n",
      "Epoch 6/12\n",
      "60000/60000 [==============================] - 233s 4ms/step - loss: 0.1188 - acc: 0.9642 - val_loss: 0.0753 - val_acc: 0.9805\n",
      "Epoch 7/12\n",
      "60000/60000 [==============================] - 233s 4ms/step - loss: 0.1107 - acc: 0.9659 - val_loss: 0.0435 - val_acc: 0.9869\n",
      "Epoch 8/12\n",
      "60000/60000 [==============================] - 232s 4ms/step - loss: 0.0984 - acc: 0.9691 - val_loss: 0.1683 - val_acc: 0.9628\n",
      "Epoch 9/12\n",
      "60000/60000 [==============================] - 233s 4ms/step - loss: 0.0929 - acc: 0.9707 - val_loss: 0.0620 - val_acc: 0.9836\n",
      "Epoch 10/12\n",
      "60000/60000 [==============================] - 232s 4ms/step - loss: 0.0900 - acc: 0.9714 - val_loss: 0.0508 - val_acc: 0.9869\n",
      "Epoch 11/12\n",
      "60000/60000 [==============================] - 232s 4ms/step - loss: 0.0814 - acc: 0.9745 - val_loss: 0.0612 - val_acc: 0.9833\n",
      "Epoch 12/12\n",
      "60000/60000 [==============================] - 232s 4ms/step - loss: 0.0801 - acc: 0.9738 - val_loss: 0.0416 - val_acc: 0.9875\n",
      "Test loss: 0.04160374434412524\n",
      "Test accuracy: 0.9875\n"
     ]
    }
   ],
   "source": [
    "from keras.layers.normalization import BatchNormalization\n",
    "model = Sequential()\n",
    "model.add(Conv2D(16, kernel_size=(2, 2),\n",
    "                 activation='relu',\n",
    "                 input_shape=input_shape))#Layer1\n",
    "model.add(BatchNormalization())\n",
    "model.add(Conv2D(32, (2, 2), activation='relu'))#Layer2\n",
    "model.add(BatchNormalization())\n",
    "model.add(Conv2D(64, (2, 2), activation='relu'))#Layer3\n",
    "model.add(BatchNormalization())\n",
    "model.add(MaxPooling2D(pool_size=(2, 2)))\n",
    "model.add(Dropout(0.30))\n",
    "model.add(Flatten())\n",
    "model.add(Dense(64, activation='relu'))\n",
    "model.add(Dropout(0.5))\n",
    "model.add(Dense(num_classes, activation='softmax'))\n",
    "\n",
    "model.compile(loss=keras.losses.categorical_crossentropy,\n",
    "              optimizer='adam',\n",
    "              metrics=['accuracy'])\n",
    "\n",
    "history=model.fit(x_train, y_train,\n",
    "          batch_size=batch_size,\n",
    "          epochs=epochs,\n",
    "          verbose=1,\n",
    "          validation_data=(x_test, y_test))\n",
    "score = model.evaluate(x_test, y_test, verbose=0)\n",
    "print('Test loss:', score[0])\n",
    "print('Test accuracy:', score[1])"
   ]
  },
  {
   "cell_type": "code",
   "execution_count": 0,
   "metadata": {
    "colab": {},
    "colab_type": "code",
    "id": "Zp_PV6UtYES9"
   },
   "outputs": [],
   "source": [
    "# Plotting Training and Validation loss plots\n",
    "%matplotlib notebook\n",
    "%matplotlib inline\n",
    "import matplotlib.pyplot as plt\n",
    "import numpy as np\n",
    "import time\n",
    "# https://gist.github.com/greydanus/f6eee59eaf1d90fcb3b534a25362cea4\n",
    "# https://stackoverflow.com/a/14434334\n",
    "# this function is used to update the plots for each epoch and error\n",
    "def plt_dynamic(x, vy, ty, ax, colors=['b']):\n",
    "    ax.plot(x, vy, 'b', label=\"Validation Loss\")\n",
    "    ax.plot(x, ty, 'r', label=\"Train Loss\")\n",
    "    plt.legend()\n",
    "    plt.grid()\n",
    "    fig.canvas.draw()"
   ]
  },
  {
   "cell_type": "code",
   "execution_count": 24,
   "metadata": {
    "colab": {
     "base_uri": "https://localhost:8080/",
     "height": 313
    },
    "colab_type": "code",
    "id": "NPnzIzCzYXXO",
    "outputId": "2ed55ea5-7c52-4980-95eb-001af8089eef"
   },
   "outputs": [
    {
     "name": "stdout",
     "output_type": "stream",
     "text": [
      "Test score: 0.04160374434412524\n",
      "Test accuracy: 0.9875\n"
     ]
    },
    {
     "data": {
      "image/png": "[encoded data removed]",
      "text/plain": [
       "<Figure size 432x288 with 1 Axes>"
      ]
     },
     "metadata": {
      "tags": []
     },
     "output_type": "display_data"
    }
   ],
   "source": [
    "score = model.evaluate(x_test, y_test, verbose=0) \n",
    "print('Test score:', score[0]) \n",
    "print('Test accuracy:', score[1])\n",
    "\n",
    "fig,ax = plt.subplots(1,1)\n",
    "ax.set_xlabel('epoch') ; ax.set_ylabel('Categorical Crossentropy Loss')\n",
    "\n",
    "# list of epoch numbers\n",
    "x = list(range(1,epochs+1))\n",
    "\n",
    "# print(history.history.keys())\n",
    "# dict_keys(['val_loss', 'val_acc', 'loss', 'acc'])\n",
    "# history = model_drop.fit(X_train, Y_train, batch_size=batch_size, epochs=nb_epoch, verbose=1, validation_data=(X_test, Y_test))\n",
    "\n",
    "# we will get val_loss and val_acc only when you pass the paramter validation_data\n",
    "# val_loss : validation loss\n",
    "# val_acc : validation accuracy\n",
    "\n",
    "# loss : training loss\n",
    "# acc : train accuracy\n",
    "# for each key in histrory.histrory we will have a list of length equal to number of epochs\n",
    "\n",
    "vy = history.history['val_loss']\n",
    "ty = history.history['loss']\n",
    "plt_dynamic(x, vy, ty, ax)\n"
   ]
  },
  {
   "cell_type": "markdown",
   "metadata": {
    "colab_type": "text",
    "id": "XDDbg9LigK08"
   },
   "source": [
    "**Building CNN with 5 Layers,Kernel_size=(5,5)**"
   ]
  },
  {
   "cell_type": "code",
   "execution_count": 18,
   "metadata": {
    "colab": {
     "base_uri": "https://localhost:8080/",
     "height": 476
    },
    "colab_type": "code",
    "id": "CGFNtvgkgQkB",
    "outputId": "2ed69d03-3c60-497c-ca6b-036593ba220b"
   },
   "outputs": [
    {
     "name": "stdout",
     "output_type": "stream",
     "text": [
      "Train on 60000 samples, validate on 10000 samples\n",
      "Epoch 1/12\n",
      "60000/60000 [==============================] - 622s 10ms/step - loss: 0.8728 - acc: 0.7384 - val_loss: 0.1029 - val_acc: 0.9692\n",
      "Epoch 2/12\n",
      "60000/60000 [==============================] - 627s 10ms/step - loss: 0.2020 - acc: 0.9450 - val_loss: 0.0652 - val_acc: 0.9802\n",
      "Epoch 3/12\n",
      "60000/60000 [==============================] - 628s 10ms/step - loss: 0.1349 - acc: 0.9655 - val_loss: 0.0585 - val_acc: 0.9833\n",
      "Epoch 4/12\n",
      "60000/60000 [==============================] - 624s 10ms/step - loss: 0.1130 - acc: 0.9717 - val_loss: 0.0602 - val_acc: 0.9834\n",
      "Epoch 5/12\n",
      "60000/60000 [==============================] - 619s 10ms/step - loss: 0.0932 - acc: 0.9762 - val_loss: 0.0455 - val_acc: 0.9891\n",
      "Epoch 6/12\n",
      "60000/60000 [==============================] - 624s 10ms/step - loss: 0.0861 - acc: 0.9782 - val_loss: 0.0463 - val_acc: 0.9874\n",
      "Epoch 7/12\n",
      "60000/60000 [==============================] - 621s 10ms/step - loss: 0.0773 - acc: 0.9803 - val_loss: 0.0503 - val_acc: 0.9868\n",
      "Epoch 8/12\n",
      "60000/60000 [==============================] - 620s 10ms/step - loss: 0.0711 - acc: 0.9824 - val_loss: 0.0452 - val_acc: 0.9902\n",
      "Epoch 9/12\n",
      "60000/60000 [==============================] - 621s 10ms/step - loss: 0.0675 - acc: 0.9824 - val_loss: 0.0345 - val_acc: 0.9907\n",
      "Epoch 10/12\n",
      "60000/60000 [==============================] - 622s 10ms/step - loss: 0.0639 - acc: 0.9841 - val_loss: 0.0368 - val_acc: 0.9914\n",
      "Epoch 11/12\n",
      "60000/60000 [==============================] - 625s 10ms/step - loss: 0.0607 - acc: 0.9852 - val_loss: 0.0474 - val_acc: 0.9887\n",
      "Epoch 12/12\n",
      "60000/60000 [==============================] - 624s 10ms/step - loss: 0.0558 - acc: 0.9861 - val_loss: 0.0346 - val_acc: 0.9909\n",
      "Test loss: 0.034640524526214404\n",
      "Test accuracy: 0.9909\n"
     ]
    }
   ],
   "source": [
    "from keras.layers.normalization import BatchNormalization\n",
    "model = Sequential()\n",
    "model.add(Conv2D(32, kernel_size=(5, 5),\n",
    "                 activation='relu',\n",
    "                 input_shape=input_shape))#Layer1\n",
    "model.add(Conv2D(32, (5, 5), activation='relu'))#Layer2\n",
    "model.add(BatchNormalization())\n",
    "model.add(Conv2D(64, (5, 5), activation='relu'))#Layer3\n",
    "model.add(BatchNormalization())\n",
    "model.add(Dropout(0.50))\n",
    "model.add(Conv2D(64, (5, 5), activation='relu'))#Layer4\n",
    "model.add(BatchNormalization())\n",
    "model.add(Dropout(0.50))\n",
    "model.add(Conv2D(64, (5, 5), activation='relu'))#Layer5\n",
    "model.add(MaxPooling2D(pool_size=(3, 3)))\n",
    "model.add(Dropout(0.50))\n",
    "model.add(Flatten())\n",
    "model.add(Dense(64, activation='relu'))\n",
    "model.add(Dropout(0.5))\n",
    "model.add(Dense(num_classes, activation='softmax'))\n",
    "\n",
    "model.compile(loss=keras.losses.categorical_crossentropy,\n",
    "              optimizer='adam',\n",
    "              metrics=['accuracy'])\n",
    "\n",
    "history=model.fit(x_train, y_train,\n",
    "          batch_size=batch_size,\n",
    "          epochs=epochs,\n",
    "          verbose=1,\n",
    "          validation_data=(x_test, y_test))\n",
    "score = model.evaluate(x_test, y_test, verbose=0)\n",
    "print('Test loss:', score[0])\n",
    "print('Test accuracy:', score[1])"
   ]
  },
  {
   "cell_type": "code",
   "execution_count": 19,
   "metadata": {
    "colab": {
     "base_uri": "https://localhost:8080/",
     "height": 313
    },
    "colab_type": "code",
    "id": "FHO1Sn2c_TER",
    "outputId": "5ece0b7a-4aa6-46c0-e60f-535e2090fe92"
   },
   "outputs": [
    {
     "name": "stdout",
     "output_type": "stream",
     "text": [
      "Test score: 0.034640524526214404\n",
      "Test accuracy: 0.9909\n"
     ]
    },
    {
     "data": {
      "image/png": "[encoded data removed]",
      "text/plain": [
       "<Figure size 432x288 with 1 Axes>"
      ]
     },
     "metadata": {
      "tags": []
     },
     "output_type": "display_data"
    }
   ],
   "source": [
    "score = model.evaluate(x_test, y_test, verbose=0) \n",
    "print('Test score:', score[0]) \n",
    "print('Test accuracy:', score[1])\n",
    "\n",
    "fig,ax = plt.subplots(1,1)\n",
    "ax.set_xlabel('epoch') ; ax.set_ylabel('Categorical Crossentropy Loss')\n",
    "\n",
    "# list of epoch numbers\n",
    "x = list(range(1,epochs+1))\n",
    "\n",
    "# print(history.history.keys())\n",
    "# dict_keys(['val_loss', 'val_acc', 'loss', 'acc'])\n",
    "# history = model_drop.fit(X_train, Y_train, batch_size=batch_size, epochs=nb_epoch, verbose=1, validation_data=(X_test, Y_test))\n",
    "\n",
    "# we will get val_loss and val_acc only when you pass the paramter validation_data\n",
    "# val_loss : validation loss\n",
    "# val_acc : validation accuracy\n",
    "\n",
    "# loss : training loss\n",
    "# acc : train accuracy\n",
    "# for each key in histrory.histrory we will have a list of length equal to number of epochs\n",
    "\n",
    "vy = history.history['val_loss']\n",
    "ty = history.history['loss']\n",
    "plt_dynamic(x, vy, ty, ax)\n"
   ]
  },
  {
   "cell_type": "markdown",
   "metadata": {
    "colab_type": "text",
    "id": "-X4jJvAZ_iA9"
   },
   "source": [
    "**Building CNN with 7 Layers,Kernel_size=(3,3)**"
   ]
  },
  {
   "cell_type": "code",
   "execution_count": 21,
   "metadata": {
    "colab": {
     "base_uri": "https://localhost:8080/",
     "height": 476
    },
    "colab_type": "code",
    "id": "LbPLyszP_mSK",
    "outputId": "5ad4839e-fdfc-47f3-e4b9-2dca6d318621"
   },
   "outputs": [
    {
     "name": "stdout",
     "output_type": "stream",
     "text": [
      "Train on 60000 samples, validate on 10000 samples\n",
      "Epoch 1/12\n",
      "60000/60000 [==============================] - 599s 10ms/step - loss: 1.3792 - acc: 0.4873 - val_loss: 0.2144 - val_acc: 0.9435\n",
      "Epoch 2/12\n",
      "60000/60000 [==============================] - 599s 10ms/step - loss: 0.6297 - acc: 0.7536 - val_loss: 0.1103 - val_acc: 0.9695\n",
      "Epoch 3/12\n",
      "60000/60000 [==============================] - 600s 10ms/step - loss: 0.4296 - acc: 0.8327 - val_loss: 0.0773 - val_acc: 0.9790\n",
      "Epoch 4/12\n",
      "60000/60000 [==============================] - 597s 10ms/step - loss: 0.3136 - acc: 0.8882 - val_loss: 0.0525 - val_acc: 0.9859\n",
      "Epoch 5/12\n",
      "60000/60000 [==============================] - 596s 10ms/step - loss: 0.2560 - acc: 0.9107 - val_loss: 0.0468 - val_acc: 0.9879\n",
      "Epoch 6/12\n",
      "60000/60000 [==============================] - 599s 10ms/step - loss: 0.1714 - acc: 0.9477 - val_loss: 0.0509 - val_acc: 0.9854\n",
      "Epoch 7/12\n",
      "60000/60000 [==============================] - 603s 10ms/step - loss: 0.1229 - acc: 0.9637 - val_loss: 0.0469 - val_acc: 0.9884\n",
      "Epoch 8/12\n",
      "60000/60000 [==============================] - 601s 10ms/step - loss: 0.1008 - acc: 0.9705 - val_loss: 0.0359 - val_acc: 0.9903\n",
      "Epoch 9/12\n",
      "60000/60000 [==============================] - 602s 10ms/step - loss: 0.0875 - acc: 0.9743 - val_loss: 0.0399 - val_acc: 0.9895\n",
      "Epoch 10/12\n",
      "60000/60000 [==============================] - 599s 10ms/step - loss: 0.0787 - acc: 0.9774 - val_loss: 0.0383 - val_acc: 0.9910\n",
      "Epoch 11/12\n",
      "60000/60000 [==============================] - 600s 10ms/step - loss: 0.0765 - acc: 0.9787 - val_loss: 0.0257 - val_acc: 0.9924\n",
      "Epoch 12/12\n",
      "60000/60000 [==============================] - 603s 10ms/step - loss: 0.0693 - acc: 0.9810 - val_loss: 0.0288 - val_acc: 0.9922\n",
      "Test loss: 0.028824671519921685\n",
      "Test accuracy: 0.9922\n"
     ]
    }
   ],
   "source": [
    "from keras.layers.normalization import BatchNormalization\n",
    "model = Sequential()\n",
    "model.add(Conv2D(16, kernel_size=(3, 3),\n",
    "                 activation='relu',\n",
    "                 input_shape=input_shape))#Layer1\n",
    "model.add(Conv2D(32, (3, 3), activation='relu'))#Layer2\n",
    "model.add(BatchNormalization())\n",
    "model.add(Conv2D(32, (3, 3), activation='relu'))#Layer3\n",
    "model.add(BatchNormalization())\n",
    "model.add(Dropout(0.40))\n",
    "model.add(Conv2D(32, (3, 3), activation='relu'))#Layer4\n",
    "model.add(BatchNormalization())\n",
    "model.add(Dropout(0.50))\n",
    "model.add(Conv2D(64, (3, 3), activation='relu'))#Layer5\n",
    "model.add(BatchNormalization())\n",
    "model.add(Dropout(0.40))\n",
    "model.add(Conv2D(64, (3, 3), activation='relu'))#Layer6\n",
    "model.add(BatchNormalization())\n",
    "model.add(Dropout(0.40))\n",
    "model.add(Conv2D(64, (3, 3), activation='relu'))#Layer7\n",
    "model.add(MaxPooling2D(pool_size=(2, 2)))\n",
    "model.add(Dropout(0.50))\n",
    "model.add(Flatten())\n",
    "model.add(Dense(128, activation='relu'))\n",
    "model.add(Dropout(0.5))\n",
    "model.add(Dense(num_classes, activation='softmax'))\n",
    "\n",
    "model.compile(loss=keras.losses.categorical_crossentropy,\n",
    "              optimizer='adam',\n",
    "              metrics=['accuracy'])\n",
    "\n",
    "history=model.fit(x_train, y_train,\n",
    "          batch_size=batch_size,\n",
    "          epochs=epochs,\n",
    "          verbose=1,\n",
    "          validation_data=(x_test, y_test))\n",
    "score = model.evaluate(x_test, y_test, verbose=0)\n",
    "print('Test loss:', score[0])\n",
    "print('Test accuracy:', score[1])"
   ]
  },
  {
   "cell_type": "code",
   "execution_count": 22,
   "metadata": {
    "colab": {
     "base_uri": "https://localhost:8080/",
     "height": 313
    },
    "colab_type": "code",
    "id": "wYcdbPQZcQUI",
    "outputId": "207d8947-c6d0-4f45-b7ba-6648544e5b4f"
   },
   "outputs": [
    {
     "name": "stdout",
     "output_type": "stream",
     "text": [
      "Test score: 0.028824671519921685\n",
      "Test accuracy: 0.9922\n"
     ]
    },
    {
     "data": {
      "image/png": "[encoded data removed]",
      "text/plain": [
       "<Figure size 432x288 with 1 Axes>"
      ]
     },
     "metadata": {
      "tags": []
     },
     "output_type": "display_data"
    }
   ],
   "source": [
    "score = model.evaluate(x_test, y_test, verbose=0) \n",
    "print('Test score:', score[0]) \n",
    "print('Test accuracy:', score[1])\n",
    "\n",
    "fig,ax = plt.subplots(1,1)\n",
    "ax.set_xlabel('epoch') ; ax.set_ylabel('Categorical Crossentropy Loss')\n",
    "\n",
    "# list of epoch numbers\n",
    "x = list(range(1,epochs+1))\n",
    "\n",
    "# print(history.history.keys())\n",
    "# dict_keys(['val_loss', 'val_acc', 'loss', 'acc'])\n",
    "# history = model_drop.fit(X_train, Y_train, batch_size=batch_size, epochs=nb_epoch, verbose=1, validation_data=(X_test, Y_test))\n",
    "\n",
    "# we will get val_loss and val_acc only when you pass the paramter validation_data\n",
    "# val_loss : validation loss\n",
    "# val_acc : validation accuracy\n",
    "\n",
    "# loss : training loss\n",
    "# acc : train accuracy\n",
    "# for each key in histrory.histrory we will have a list of length equal to number of epochs\n",
    "\n",
    "vy = history.history['val_loss']\n",
    "ty = history.history['loss']\n",
    "plt_dynamic(x, vy, ty, ax)\n"
   ]
  },
  {
   "cell_type": "markdown",
   "metadata": {
    "colab_type": "text",
    "id": "dXaNXjG_puEg"
   },
   "source": [
    "**Conclusions**"
   ]
  },
  {
   "cell_type": "code",
   "execution_count": 0,
   "metadata": {
    "colab": {},
    "colab_type": "code",
    "id": "jlcFvsXqpx9A"
   },
   "outputs": [],
   "source": [
    "from prettytable import PrettyTable"
   ]
  },
  {
   "cell_type": "code",
   "execution_count": 0,
   "metadata": {
    "colab": {},
    "colab_type": "code",
    "id": "e313k0Nup3dm"
   },
   "outputs": [],
   "source": [
    "x=PrettyTable()"
   ]
  },
  {
   "cell_type": "code",
   "execution_count": 0,
   "metadata": {
    "colab": {},
    "colab_type": "code",
    "id": "y0Tx2DwjqBo8"
   },
   "outputs": [],
   "source": [
    "x.field_names=['Neural_Network_Type','#_of_Layers','Kernel_Size','Optimizer','Activation_Function','Test_Score','Test_Accuracy']"
   ]
  },
  {
   "cell_type": "code",
   "execution_count": 0,
   "metadata": {
    "colab": {},
    "colab_type": "code",
    "id": "hf4vMxLqqVtM"
   },
   "outputs": [],
   "source": [
    "x.add_row(['CNN',3,'(2,2)','adam','relu',0.041,98.75])\n",
    "x.add_row(['CNN',5,'(5,5)','adam','relu',0.034,99.09])\n",
    "x.add_row(['CNN',7,'(3,3)','adam','relu',0.028,99.22])"
   ]
  },
  {
   "cell_type": "code",
   "execution_count": 41,
   "metadata": {
    "colab": {
     "base_uri": "https://localhost:8080/",
     "height": 136
    },
    "colab_type": "code",
    "id": "2-BAyyiYsL7_",
    "outputId": "3e952221-7bc0-46c0-f787-06e3220936f0"
   },
   "outputs": [
    {
     "name": "stdout",
     "output_type": "stream",
     "text": [
      "+---------------------+-------------+-------------+-----------+---------------------+------------+---------------+\n",
      "| Neural_Network_Type | #_of_Layers | Kernel_Size | Optimizer | Activation_Function | Test_Score | Test_Accuracy |\n",
      "+---------------------+-------------+-------------+-----------+---------------------+------------+---------------+\n",
      "|         CNN         |      3      |    (2,2)    |    adam   |         relu        |   0.041    |     98.75     |\n",
      "|         CNN         |      5      |    (5,5)    |    adam   |         relu        |   0.034    |     99.09     |\n",
      "|         CNN         |      7      |    (3,3)    |    adam   |         relu        |   0.028    |     99.22     |\n",
      "+---------------------+-------------+-------------+-----------+---------------------+------------+---------------+\n"
     ]
    }
   ],
   "source": [
    "print(x)"
   ]
  }
 ],
 "metadata": {
  "colab": {
   "collapsed_sections": [],
   "name": "CNN_MNIST.ipynb",
   "provenance": []
  },
  "kernelspec": {
   "display_name": "Python 3",
   "language": "python",
   "name": "python3"
  },
  "language_info": {
   "codemirror_mode": {
    "name": "ipython",
    "version": 3
   },
   "file_extension": ".py",
   "mimetype": "text/x-python",
   "name": "python",
   "nbconvert_exporter": "python",
   "pygments_lexer": "ipython3",
   "version": "3.7.3"
  }
 },
 "nbformat": 4,
 "nbformat_minor": 1
}
